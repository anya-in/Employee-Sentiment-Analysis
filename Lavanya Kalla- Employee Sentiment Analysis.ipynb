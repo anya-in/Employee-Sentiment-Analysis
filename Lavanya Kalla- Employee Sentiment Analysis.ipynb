{
  "cells": [
    {
      "cell_type": "markdown",
      "metadata": {
        "id": "tfMOri5SRpwY"
      },
      "source": [
        "# **Employee Sentiment Analysis - Final LLM Assessment- Lavanya Kalla**"
      ]
    },
    {
      "cell_type": "markdown",
      "metadata": {
        "id": "Q8F_-0pI2pX2"
      },
      "source": [
        "## 1. Data Loading & Preparation"
      ]
    },
    {
      "cell_type": "code",
      "execution_count": 12,
      "metadata": {
        "id": "NP9cbbR-Rmpm",
        "colab": {
          "base_uri": "https://localhost:8080/"
        },
        "outputId": "69094c3a-2ce4-4a5d-8d26-01b8d32c08f6"
      },
      "outputs": [
        {
          "output_type": "stream",
          "name": "stdout",
          "text": [
            "Requirement already satisfied: transformers in /usr/local/lib/python3.11/dist-packages (4.51.3)\n",
            "Requirement already satisfied: filelock in /usr/local/lib/python3.11/dist-packages (from transformers) (3.18.0)\n",
            "Requirement already satisfied: huggingface-hub<1.0,>=0.30.0 in /usr/local/lib/python3.11/dist-packages (from transformers) (0.31.2)\n",
            "Requirement already satisfied: numpy>=1.17 in /usr/local/lib/python3.11/dist-packages (from transformers) (2.0.2)\n",
            "Requirement already satisfied: packaging>=20.0 in /usr/local/lib/python3.11/dist-packages (from transformers) (24.2)\n",
            "Requirement already satisfied: pyyaml>=5.1 in /usr/local/lib/python3.11/dist-packages (from transformers) (6.0.2)\n",
            "Requirement already satisfied: regex!=2019.12.17 in /usr/local/lib/python3.11/dist-packages (from transformers) (2024.11.6)\n",
            "Requirement already satisfied: requests in /usr/local/lib/python3.11/dist-packages (from transformers) (2.32.3)\n",
            "Requirement already satisfied: tokenizers<0.22,>=0.21 in /usr/local/lib/python3.11/dist-packages (from transformers) (0.21.1)\n",
            "Requirement already satisfied: safetensors>=0.4.3 in /usr/local/lib/python3.11/dist-packages (from transformers) (0.5.3)\n",
            "Requirement already satisfied: tqdm>=4.27 in /usr/local/lib/python3.11/dist-packages (from transformers) (4.67.1)\n",
            "Requirement already satisfied: fsspec>=2023.5.0 in /usr/local/lib/python3.11/dist-packages (from huggingface-hub<1.0,>=0.30.0->transformers) (2025.3.2)\n",
            "Requirement already satisfied: typing-extensions>=3.7.4.3 in /usr/local/lib/python3.11/dist-packages (from huggingface-hub<1.0,>=0.30.0->transformers) (4.13.2)\n",
            "Requirement already satisfied: charset-normalizer<4,>=2 in /usr/local/lib/python3.11/dist-packages (from requests->transformers) (3.4.2)\n",
            "Requirement already satisfied: idna<4,>=2.5 in /usr/local/lib/python3.11/dist-packages (from requests->transformers) (3.10)\n",
            "Requirement already satisfied: urllib3<3,>=1.21.1 in /usr/local/lib/python3.11/dist-packages (from requests->transformers) (2.4.0)\n",
            "Requirement already satisfied: certifi>=2017.4.17 in /usr/local/lib/python3.11/dist-packages (from requests->transformers) (2025.4.26)\n",
            "Requirement already satisfied: textblob in /usr/local/lib/python3.11/dist-packages (0.19.0)\n",
            "Requirement already satisfied: nltk>=3.9 in /usr/local/lib/python3.11/dist-packages (from textblob) (3.9.1)\n",
            "Requirement already satisfied: click in /usr/local/lib/python3.11/dist-packages (from nltk>=3.9->textblob) (8.2.0)\n",
            "Requirement already satisfied: joblib in /usr/local/lib/python3.11/dist-packages (from nltk>=3.9->textblob) (1.5.0)\n",
            "Requirement already satisfied: regex>=2021.8.3 in /usr/local/lib/python3.11/dist-packages (from nltk>=3.9->textblob) (2024.11.6)\n",
            "Requirement already satisfied: tqdm in /usr/local/lib/python3.11/dist-packages (from nltk>=3.9->textblob) (4.67.1)\n"
          ]
        }
      ],
      "source": [
        "!pip install transformers\n",
        "!pip install textblob\n",
        "import pandas as pd  # I imported pandas for handling and transforming tabular data.\n",
        "import matplotlib.pyplot as plt  # This is used for plotting and visualizations.\n",
        "import seaborn as sns  # for EDA.\n",
        "from sklearn.linear_model import LinearRegression  # I used this for the final predictive model.\n",
        "from sklearn.model_selection import train_test_split  # I used this to split the dataset for training and testing.\n",
        "from sklearn.metrics import mean_squared_error, r2_score  # for evaluating model performance.\n",
        "from transformers import pipeline  # I used the Hugging Face's pipeline (model: DistilBERT) for sentiment analysis.\n",
        "from datetime import datetime, timedelta\n",
        "from textblob import TextBlob  # I used TextBlob to calculate sentiment polarity for identifying neutral messages.\n",
        "import os"
      ]
    },
    {
      "cell_type": "code",
      "execution_count": 13,
      "metadata": {
        "id": "nWFnhtVNR_hF"
      },
      "outputs": [],
      "source": [
        "df = pd.read_csv('test(in).csv') #loaded the dataset using pandas"
      ]
    },
    {
      "cell_type": "code",
      "execution_count": 14,
      "metadata": {
        "colab": {
          "base_uri": "https://localhost:8080/"
        },
        "id": "NU3ygeITSoSB",
        "outputId": "912032d7-173d-40f5-c7d8-f255a7997a3f"
      },
      "outputs": [
        {
          "output_type": "stream",
          "name": "stdout",
          "text": [
            "<class 'pandas.core.frame.DataFrame'>\n",
            "RangeIndex: 2191 entries, 0 to 2190\n",
            "Data columns (total 4 columns):\n",
            " #   Column   Non-Null Count  Dtype \n",
            "---  ------   --------------  ----- \n",
            " 0   Subject  2191 non-null   object\n",
            " 1   body     2191 non-null   object\n",
            " 2   date     2191 non-null   object\n",
            " 3   from     2191 non-null   object\n",
            "dtypes: object(4)\n",
            "memory usage: 68.6+ KB\n"
          ]
        }
      ],
      "source": [
        "df.info() # understanding the dataset"
      ]
    },
    {
      "cell_type": "markdown",
      "source": [
        "# This shows the structure of the DataFrame, including:\n",
        "\n",
        "Total number of entries (2191)\n",
        "\n",
        "Column names and data types (all object type)\n",
        "\n",
        "Non-null counts (no missing values in any column)\n",
        "\n",
        "Memory usage (68.6 KB)\n"
      ],
      "metadata": {
        "id": "YLSbZmAp_akn"
      }
    },
    {
      "cell_type": "code",
      "execution_count": 15,
      "metadata": {
        "colab": {
          "base_uri": "https://localhost:8080/"
        },
        "id": "ebQKwHwnWFkV",
        "outputId": "c50c6177-b9b3-46f1-cefb-71e63c81f42d"
      },
      "outputs": [
        {
          "output_type": "stream",
          "name": "stdout",
          "text": [
            "Index(['Subject', 'body', 'date', 'from'], dtype='object')\n"
          ]
        }
      ],
      "source": [
        "print(df.columns)\n"
      ]
    },
    {
      "cell_type": "markdown",
      "source": [
        "Lists the names of all columns:'Subject', 'body', 'date', 'from'.\n",
        "Knowing column names helps in accessing and analyzing specific fields."
      ],
      "metadata": {
        "id": "25mv4aAiAjGW"
      }
    },
    {
      "cell_type": "code",
      "execution_count": 16,
      "metadata": {
        "colab": {
          "base_uri": "https://localhost:8080/",
          "height": 175
        },
        "id": "eO0nvPq3Suie",
        "outputId": "be6a9a0d-6976-449f-9df6-cd2511c76575"
      },
      "outputs": [
        {
          "output_type": "execute_result",
          "data": {
            "text/plain": [
              "             Subject   body      date                     from\n",
              "count           2191   2191      2191                     2191\n",
              "unique          1251   1539       690                       10\n",
              "top     (No Subject)  \\n\\n   7/1/2011  lydia.delgado@enron.com\n",
              "freq             141     21         9                      284"
            ],
            "text/html": [
              "\n",
              "  <div id=\"df-5c4b1818-8d15-4f81-87e5-0d35ca526542\" class=\"colab-df-container\">\n",
              "    <div>\n",
              "<style scoped>\n",
              "    .dataframe tbody tr th:only-of-type {\n",
              "        vertical-align: middle;\n",
              "    }\n",
              "\n",
              "    .dataframe tbody tr th {\n",
              "        vertical-align: top;\n",
              "    }\n",
              "\n",
              "    .dataframe thead th {\n",
              "        text-align: right;\n",
              "    }\n",
              "</style>\n",
              "<table border=\"1\" class=\"dataframe\">\n",
              "  <thead>\n",
              "    <tr style=\"text-align: right;\">\n",
              "      <th></th>\n",
              "      <th>Subject</th>\n",
              "      <th>body</th>\n",
              "      <th>date</th>\n",
              "      <th>from</th>\n",
              "    </tr>\n",
              "  </thead>\n",
              "  <tbody>\n",
              "    <tr>\n",
              "      <th>count</th>\n",
              "      <td>2191</td>\n",
              "      <td>2191</td>\n",
              "      <td>2191</td>\n",
              "      <td>2191</td>\n",
              "    </tr>\n",
              "    <tr>\n",
              "      <th>unique</th>\n",
              "      <td>1251</td>\n",
              "      <td>1539</td>\n",
              "      <td>690</td>\n",
              "      <td>10</td>\n",
              "    </tr>\n",
              "    <tr>\n",
              "      <th>top</th>\n",
              "      <td>(No Subject)</td>\n",
              "      <td>\\n\\n</td>\n",
              "      <td>7/1/2011</td>\n",
              "      <td>lydia.delgado@enron.com</td>\n",
              "    </tr>\n",
              "    <tr>\n",
              "      <th>freq</th>\n",
              "      <td>141</td>\n",
              "      <td>21</td>\n",
              "      <td>9</td>\n",
              "      <td>284</td>\n",
              "    </tr>\n",
              "  </tbody>\n",
              "</table>\n",
              "</div>\n",
              "    <div class=\"colab-df-buttons\">\n",
              "\n",
              "  <div class=\"colab-df-container\">\n",
              "    <button class=\"colab-df-convert\" onclick=\"convertToInteractive('df-5c4b1818-8d15-4f81-87e5-0d35ca526542')\"\n",
              "            title=\"Convert this dataframe to an interactive table.\"\n",
              "            style=\"display:none;\">\n",
              "\n",
              "  <svg xmlns=\"http://www.w3.org/2000/svg\" height=\"24px\" viewBox=\"0 -960 960 960\">\n",
              "    <path d=\"M120-120v-720h720v720H120Zm60-500h600v-160H180v160Zm220 220h160v-160H400v160Zm0 220h160v-160H400v160ZM180-400h160v-160H180v160Zm440 0h160v-160H620v160ZM180-180h160v-160H180v160Zm440 0h160v-160H620v160Z\"/>\n",
              "  </svg>\n",
              "    </button>\n",
              "\n",
              "  <style>\n",
              "    .colab-df-container {\n",
              "      display:flex;\n",
              "      gap: 12px;\n",
              "    }\n",
              "\n",
              "    .colab-df-convert {\n",
              "      background-color: #E8F0FE;\n",
              "      border: none;\n",
              "      border-radius: 50%;\n",
              "      cursor: pointer;\n",
              "      display: none;\n",
              "      fill: #1967D2;\n",
              "      height: 32px;\n",
              "      padding: 0 0 0 0;\n",
              "      width: 32px;\n",
              "    }\n",
              "\n",
              "    .colab-df-convert:hover {\n",
              "      background-color: #E2EBFA;\n",
              "      box-shadow: 0px 1px 2px rgba(60, 64, 67, 0.3), 0px 1px 3px 1px rgba(60, 64, 67, 0.15);\n",
              "      fill: #174EA6;\n",
              "    }\n",
              "\n",
              "    .colab-df-buttons div {\n",
              "      margin-bottom: 4px;\n",
              "    }\n",
              "\n",
              "    [theme=dark] .colab-df-convert {\n",
              "      background-color: #3B4455;\n",
              "      fill: #D2E3FC;\n",
              "    }\n",
              "\n",
              "    [theme=dark] .colab-df-convert:hover {\n",
              "      background-color: #434B5C;\n",
              "      box-shadow: 0px 1px 3px 1px rgba(0, 0, 0, 0.15);\n",
              "      filter: drop-shadow(0px 1px 2px rgba(0, 0, 0, 0.3));\n",
              "      fill: #FFFFFF;\n",
              "    }\n",
              "  </style>\n",
              "\n",
              "    <script>\n",
              "      const buttonEl =\n",
              "        document.querySelector('#df-5c4b1818-8d15-4f81-87e5-0d35ca526542 button.colab-df-convert');\n",
              "      buttonEl.style.display =\n",
              "        google.colab.kernel.accessAllowed ? 'block' : 'none';\n",
              "\n",
              "      async function convertToInteractive(key) {\n",
              "        const element = document.querySelector('#df-5c4b1818-8d15-4f81-87e5-0d35ca526542');\n",
              "        const dataTable =\n",
              "          await google.colab.kernel.invokeFunction('convertToInteractive',\n",
              "                                                    [key], {});\n",
              "        if (!dataTable) return;\n",
              "\n",
              "        const docLinkHtml = 'Like what you see? Visit the ' +\n",
              "          '<a target=\"_blank\" href=https://colab.research.google.com/notebooks/data_table.ipynb>data table notebook</a>'\n",
              "          + ' to learn more about interactive tables.';\n",
              "        element.innerHTML = '';\n",
              "        dataTable['output_type'] = 'display_data';\n",
              "        await google.colab.output.renderOutput(dataTable, element);\n",
              "        const docLink = document.createElement('div');\n",
              "        docLink.innerHTML = docLinkHtml;\n",
              "        element.appendChild(docLink);\n",
              "      }\n",
              "    </script>\n",
              "  </div>\n",
              "\n",
              "\n",
              "    <div id=\"df-3cc5aece-7ce7-4d63-9f7f-fd61f35c695d\">\n",
              "      <button class=\"colab-df-quickchart\" onclick=\"quickchart('df-3cc5aece-7ce7-4d63-9f7f-fd61f35c695d')\"\n",
              "                title=\"Suggest charts\"\n",
              "                style=\"display:none;\">\n",
              "\n",
              "<svg xmlns=\"http://www.w3.org/2000/svg\" height=\"24px\"viewBox=\"0 0 24 24\"\n",
              "     width=\"24px\">\n",
              "    <g>\n",
              "        <path d=\"M19 3H5c-1.1 0-2 .9-2 2v14c0 1.1.9 2 2 2h14c1.1 0 2-.9 2-2V5c0-1.1-.9-2-2-2zM9 17H7v-7h2v7zm4 0h-2V7h2v10zm4 0h-2v-4h2v4z\"/>\n",
              "    </g>\n",
              "</svg>\n",
              "      </button>\n",
              "\n",
              "<style>\n",
              "  .colab-df-quickchart {\n",
              "      --bg-color: #E8F0FE;\n",
              "      --fill-color: #1967D2;\n",
              "      --hover-bg-color: #E2EBFA;\n",
              "      --hover-fill-color: #174EA6;\n",
              "      --disabled-fill-color: #AAA;\n",
              "      --disabled-bg-color: #DDD;\n",
              "  }\n",
              "\n",
              "  [theme=dark] .colab-df-quickchart {\n",
              "      --bg-color: #3B4455;\n",
              "      --fill-color: #D2E3FC;\n",
              "      --hover-bg-color: #434B5C;\n",
              "      --hover-fill-color: #FFFFFF;\n",
              "      --disabled-bg-color: #3B4455;\n",
              "      --disabled-fill-color: #666;\n",
              "  }\n",
              "\n",
              "  .colab-df-quickchart {\n",
              "    background-color: var(--bg-color);\n",
              "    border: none;\n",
              "    border-radius: 50%;\n",
              "    cursor: pointer;\n",
              "    display: none;\n",
              "    fill: var(--fill-color);\n",
              "    height: 32px;\n",
              "    padding: 0;\n",
              "    width: 32px;\n",
              "  }\n",
              "\n",
              "  .colab-df-quickchart:hover {\n",
              "    background-color: var(--hover-bg-color);\n",
              "    box-shadow: 0 1px 2px rgba(60, 64, 67, 0.3), 0 1px 3px 1px rgba(60, 64, 67, 0.15);\n",
              "    fill: var(--button-hover-fill-color);\n",
              "  }\n",
              "\n",
              "  .colab-df-quickchart-complete:disabled,\n",
              "  .colab-df-quickchart-complete:disabled:hover {\n",
              "    background-color: var(--disabled-bg-color);\n",
              "    fill: var(--disabled-fill-color);\n",
              "    box-shadow: none;\n",
              "  }\n",
              "\n",
              "  .colab-df-spinner {\n",
              "    border: 2px solid var(--fill-color);\n",
              "    border-color: transparent;\n",
              "    border-bottom-color: var(--fill-color);\n",
              "    animation:\n",
              "      spin 1s steps(1) infinite;\n",
              "  }\n",
              "\n",
              "  @keyframes spin {\n",
              "    0% {\n",
              "      border-color: transparent;\n",
              "      border-bottom-color: var(--fill-color);\n",
              "      border-left-color: var(--fill-color);\n",
              "    }\n",
              "    20% {\n",
              "      border-color: transparent;\n",
              "      border-left-color: var(--fill-color);\n",
              "      border-top-color: var(--fill-color);\n",
              "    }\n",
              "    30% {\n",
              "      border-color: transparent;\n",
              "      border-left-color: var(--fill-color);\n",
              "      border-top-color: var(--fill-color);\n",
              "      border-right-color: var(--fill-color);\n",
              "    }\n",
              "    40% {\n",
              "      border-color: transparent;\n",
              "      border-right-color: var(--fill-color);\n",
              "      border-top-color: var(--fill-color);\n",
              "    }\n",
              "    60% {\n",
              "      border-color: transparent;\n",
              "      border-right-color: var(--fill-color);\n",
              "    }\n",
              "    80% {\n",
              "      border-color: transparent;\n",
              "      border-right-color: var(--fill-color);\n",
              "      border-bottom-color: var(--fill-color);\n",
              "    }\n",
              "    90% {\n",
              "      border-color: transparent;\n",
              "      border-bottom-color: var(--fill-color);\n",
              "    }\n",
              "  }\n",
              "</style>\n",
              "\n",
              "      <script>\n",
              "        async function quickchart(key) {\n",
              "          const quickchartButtonEl =\n",
              "            document.querySelector('#' + key + ' button');\n",
              "          quickchartButtonEl.disabled = true;  // To prevent multiple clicks.\n",
              "          quickchartButtonEl.classList.add('colab-df-spinner');\n",
              "          try {\n",
              "            const charts = await google.colab.kernel.invokeFunction(\n",
              "                'suggestCharts', [key], {});\n",
              "          } catch (error) {\n",
              "            console.error('Error during call to suggestCharts:', error);\n",
              "          }\n",
              "          quickchartButtonEl.classList.remove('colab-df-spinner');\n",
              "          quickchartButtonEl.classList.add('colab-df-quickchart-complete');\n",
              "        }\n",
              "        (() => {\n",
              "          let quickchartButtonEl =\n",
              "            document.querySelector('#df-3cc5aece-7ce7-4d63-9f7f-fd61f35c695d button');\n",
              "          quickchartButtonEl.style.display =\n",
              "            google.colab.kernel.accessAllowed ? 'block' : 'none';\n",
              "        })();\n",
              "      </script>\n",
              "    </div>\n",
              "\n",
              "    </div>\n",
              "  </div>\n"
            ],
            "application/vnd.google.colaboratory.intrinsic+json": {
              "type": "dataframe",
              "summary": "{\n  \"name\": \"df\",\n  \"rows\": 4,\n  \"fields\": [\n    {\n      \"column\": \"Subject\",\n      \"properties\": {\n        \"dtype\": \"string\",\n        \"num_unique_values\": 4,\n        \"samples\": [\n          1251,\n          \"141\",\n          \"2191\"\n        ],\n        \"semantic_type\": \"\",\n        \"description\": \"\"\n      }\n    },\n    {\n      \"column\": \"body\",\n      \"properties\": {\n        \"dtype\": \"string\",\n        \"num_unique_values\": 4,\n        \"samples\": [\n          1539,\n          \"21\",\n          \"2191\"\n        ],\n        \"semantic_type\": \"\",\n        \"description\": \"\"\n      }\n    },\n    {\n      \"column\": \"date\",\n      \"properties\": {\n        \"dtype\": \"date\",\n        \"min\": \"1970-01-01 00:00:00.000000009\",\n        \"max\": \"2011-07-01 00:00:00\",\n        \"num_unique_values\": 4,\n        \"samples\": [\n          690,\n          \"9\",\n          \"2191\"\n        ],\n        \"semantic_type\": \"\",\n        \"description\": \"\"\n      }\n    },\n    {\n      \"column\": \"from\",\n      \"properties\": {\n        \"dtype\": \"string\",\n        \"num_unique_values\": 4,\n        \"samples\": [\n          10,\n          \"284\",\n          \"2191\"\n        ],\n        \"semantic_type\": \"\",\n        \"description\": \"\"\n      }\n    }\n  ]\n}"
            }
          },
          "metadata": {},
          "execution_count": 16
        }
      ],
      "source": [
        "df.describe()"
      ]
    },
    {
      "cell_type": "markdown",
      "source": [
        "**Observations:**After running df.describe(include='object'), I got a high-level overview of the text-based columns in my dataset:\n",
        "\n",
        "**Subject:**\n",
        "There are 2,191 emails, and 1,251 of them have unique subject lines. Interestingly, the most common subject is “(No Subject)”, which appears 141 times.\n",
        "-- This tells me many senders didn’t specify a subject, which could be typical of internal or casual communication.\n",
        "\n",
        "**Body:**\n",
        "The body column has 1,539 unique values. The most frequent email body is just a blank message (\\n\\n), showing up 21 times.\n",
        "-This might indicate test emails, system messages, or incomplete data. I’ll need to consider filtering or flagging these during preprocessing.\n",
        "\n",
        "**Date:**\n",
        "Dates are stored as strings for now. The most common date is 7/1/2011, which appears 9 times.\n",
        "-- This could indicate a spike in email activity on that day—worth checking for trends later once I convert this column to datetime format.\n",
        "\n",
        "**From:**\n",
        "Only 10 unique senders are present. The most frequent sender is lydia.delgado@enron.com, responsible for 284 emails.\n",
        "-- This suggests the dataset was perhaps filtered beforehand."
      ],
      "metadata": {
        "id": "pSIc6m4OB7Wz"
      }
    },
    {
      "cell_type": "code",
      "execution_count": 17,
      "metadata": {
        "colab": {
          "base_uri": "https://localhost:8080/",
          "height": 209
        },
        "id": "rm_kqYteTUBc",
        "outputId": "adb80f94-3187-4182-9545-38d6a39e2aab"
      },
      "outputs": [
        {
          "output_type": "execute_result",
          "data": {
            "text/plain": [
              "Subject    0\n",
              "body       0\n",
              "date       0\n",
              "from       0\n",
              "dtype: int64"
            ],
            "text/html": [
              "<div>\n",
              "<style scoped>\n",
              "    .dataframe tbody tr th:only-of-type {\n",
              "        vertical-align: middle;\n",
              "    }\n",
              "\n",
              "    .dataframe tbody tr th {\n",
              "        vertical-align: top;\n",
              "    }\n",
              "\n",
              "    .dataframe thead th {\n",
              "        text-align: right;\n",
              "    }\n",
              "</style>\n",
              "<table border=\"1\" class=\"dataframe\">\n",
              "  <thead>\n",
              "    <tr style=\"text-align: right;\">\n",
              "      <th></th>\n",
              "      <th>0</th>\n",
              "    </tr>\n",
              "  </thead>\n",
              "  <tbody>\n",
              "    <tr>\n",
              "      <th>Subject</th>\n",
              "      <td>0</td>\n",
              "    </tr>\n",
              "    <tr>\n",
              "      <th>body</th>\n",
              "      <td>0</td>\n",
              "    </tr>\n",
              "    <tr>\n",
              "      <th>date</th>\n",
              "      <td>0</td>\n",
              "    </tr>\n",
              "    <tr>\n",
              "      <th>from</th>\n",
              "      <td>0</td>\n",
              "    </tr>\n",
              "  </tbody>\n",
              "</table>\n",
              "</div><br><label><b>dtype:</b> int64</label>"
            ]
          },
          "metadata": {},
          "execution_count": 17
        }
      ],
      "source": [
        "df.isnull().sum()"
      ]
    },
    {
      "cell_type": "markdown",
      "source": [
        "Used to identify missing data.\n",
        "In this dataset, all values are non-null, indicating no immediate need for missing value imputation."
      ],
      "metadata": {
        "id": "e5GjWgOgAter"
      }
    },
    {
      "cell_type": "code",
      "execution_count": 18,
      "metadata": {
        "colab": {
          "base_uri": "https://localhost:8080/",
          "height": 345
        },
        "id": "n98YgKMsUnfy",
        "outputId": "d1466f4e-7620-436b-bd81-7585d968302f"
      },
      "outputs": [
        {
          "output_type": "execute_result",
          "data": {
            "text/plain": [
              "                                        Subject  \\\n",
              "0                          EnronOptions Update!   \n",
              "1                                  (No Subject)   \n",
              "2  Phone Screen  Interview - Shannon L. Burnham   \n",
              "3                         RE: My new work email   \n",
              "4                                           Bet   \n",
              "\n",
              "                                                body       date  \\\n",
              "0  EnronOptions Announcement\\n\\n\\nWe have updated...  5/10/2010   \n",
              "1  Marc,\\n\\nUnfortunately, today is not going to ...  7/29/2010   \n",
              "2  When: Wednesday, June 06, 2001 10:00 AM-11:00 ...  7/25/2011   \n",
              "3  we were thinking papasitos (we can meet somewh...  3/25/2010   \n",
              "4  Since you never gave me the $20 for the last t...  5/21/2011   \n",
              "\n",
              "                      from  \n",
              "0     sally.beck@enron.com  \n",
              "1      eric.bass@enron.com  \n",
              "2     sally.beck@enron.com  \n",
              "3  johnny.palmer@enron.com  \n",
              "4  lydia.delgado@enron.com  "
            ],
            "text/html": [
              "\n",
              "  <div id=\"df-6c8c1307-6c71-473d-a14d-9f211a9fc5cf\" class=\"colab-df-container\">\n",
              "    <div>\n",
              "<style scoped>\n",
              "    .dataframe tbody tr th:only-of-type {\n",
              "        vertical-align: middle;\n",
              "    }\n",
              "\n",
              "    .dataframe tbody tr th {\n",
              "        vertical-align: top;\n",
              "    }\n",
              "\n",
              "    .dataframe thead th {\n",
              "        text-align: right;\n",
              "    }\n",
              "</style>\n",
              "<table border=\"1\" class=\"dataframe\">\n",
              "  <thead>\n",
              "    <tr style=\"text-align: right;\">\n",
              "      <th></th>\n",
              "      <th>Subject</th>\n",
              "      <th>body</th>\n",
              "      <th>date</th>\n",
              "      <th>from</th>\n",
              "    </tr>\n",
              "  </thead>\n",
              "  <tbody>\n",
              "    <tr>\n",
              "      <th>0</th>\n",
              "      <td>EnronOptions Update!</td>\n",
              "      <td>EnronOptions Announcement\\n\\n\\nWe have updated...</td>\n",
              "      <td>5/10/2010</td>\n",
              "      <td>sally.beck@enron.com</td>\n",
              "    </tr>\n",
              "    <tr>\n",
              "      <th>1</th>\n",
              "      <td>(No Subject)</td>\n",
              "      <td>Marc,\\n\\nUnfortunately, today is not going to ...</td>\n",
              "      <td>7/29/2010</td>\n",
              "      <td>eric.bass@enron.com</td>\n",
              "    </tr>\n",
              "    <tr>\n",
              "      <th>2</th>\n",
              "      <td>Phone Screen  Interview - Shannon L. Burnham</td>\n",
              "      <td>When: Wednesday, June 06, 2001 10:00 AM-11:00 ...</td>\n",
              "      <td>7/25/2011</td>\n",
              "      <td>sally.beck@enron.com</td>\n",
              "    </tr>\n",
              "    <tr>\n",
              "      <th>3</th>\n",
              "      <td>RE: My new work email</td>\n",
              "      <td>we were thinking papasitos (we can meet somewh...</td>\n",
              "      <td>3/25/2010</td>\n",
              "      <td>johnny.palmer@enron.com</td>\n",
              "    </tr>\n",
              "    <tr>\n",
              "      <th>4</th>\n",
              "      <td>Bet</td>\n",
              "      <td>Since you never gave me the $20 for the last t...</td>\n",
              "      <td>5/21/2011</td>\n",
              "      <td>lydia.delgado@enron.com</td>\n",
              "    </tr>\n",
              "  </tbody>\n",
              "</table>\n",
              "</div>\n",
              "    <div class=\"colab-df-buttons\">\n",
              "\n",
              "  <div class=\"colab-df-container\">\n",
              "    <button class=\"colab-df-convert\" onclick=\"convertToInteractive('df-6c8c1307-6c71-473d-a14d-9f211a9fc5cf')\"\n",
              "            title=\"Convert this dataframe to an interactive table.\"\n",
              "            style=\"display:none;\">\n",
              "\n",
              "  <svg xmlns=\"http://www.w3.org/2000/svg\" height=\"24px\" viewBox=\"0 -960 960 960\">\n",
              "    <path d=\"M120-120v-720h720v720H120Zm60-500h600v-160H180v160Zm220 220h160v-160H400v160Zm0 220h160v-160H400v160ZM180-400h160v-160H180v160Zm440 0h160v-160H620v160ZM180-180h160v-160H180v160Zm440 0h160v-160H620v160Z\"/>\n",
              "  </svg>\n",
              "    </button>\n",
              "\n",
              "  <style>\n",
              "    .colab-df-container {\n",
              "      display:flex;\n",
              "      gap: 12px;\n",
              "    }\n",
              "\n",
              "    .colab-df-convert {\n",
              "      background-color: #E8F0FE;\n",
              "      border: none;\n",
              "      border-radius: 50%;\n",
              "      cursor: pointer;\n",
              "      display: none;\n",
              "      fill: #1967D2;\n",
              "      height: 32px;\n",
              "      padding: 0 0 0 0;\n",
              "      width: 32px;\n",
              "    }\n",
              "\n",
              "    .colab-df-convert:hover {\n",
              "      background-color: #E2EBFA;\n",
              "      box-shadow: 0px 1px 2px rgba(60, 64, 67, 0.3), 0px 1px 3px 1px rgba(60, 64, 67, 0.15);\n",
              "      fill: #174EA6;\n",
              "    }\n",
              "\n",
              "    .colab-df-buttons div {\n",
              "      margin-bottom: 4px;\n",
              "    }\n",
              "\n",
              "    [theme=dark] .colab-df-convert {\n",
              "      background-color: #3B4455;\n",
              "      fill: #D2E3FC;\n",
              "    }\n",
              "\n",
              "    [theme=dark] .colab-df-convert:hover {\n",
              "      background-color: #434B5C;\n",
              "      box-shadow: 0px 1px 3px 1px rgba(0, 0, 0, 0.15);\n",
              "      filter: drop-shadow(0px 1px 2px rgba(0, 0, 0, 0.3));\n",
              "      fill: #FFFFFF;\n",
              "    }\n",
              "  </style>\n",
              "\n",
              "    <script>\n",
              "      const buttonEl =\n",
              "        document.querySelector('#df-6c8c1307-6c71-473d-a14d-9f211a9fc5cf button.colab-df-convert');\n",
              "      buttonEl.style.display =\n",
              "        google.colab.kernel.accessAllowed ? 'block' : 'none';\n",
              "\n",
              "      async function convertToInteractive(key) {\n",
              "        const element = document.querySelector('#df-6c8c1307-6c71-473d-a14d-9f211a9fc5cf');\n",
              "        const dataTable =\n",
              "          await google.colab.kernel.invokeFunction('convertToInteractive',\n",
              "                                                    [key], {});\n",
              "        if (!dataTable) return;\n",
              "\n",
              "        const docLinkHtml = 'Like what you see? Visit the ' +\n",
              "          '<a target=\"_blank\" href=https://colab.research.google.com/notebooks/data_table.ipynb>data table notebook</a>'\n",
              "          + ' to learn more about interactive tables.';\n",
              "        element.innerHTML = '';\n",
              "        dataTable['output_type'] = 'display_data';\n",
              "        await google.colab.output.renderOutput(dataTable, element);\n",
              "        const docLink = document.createElement('div');\n",
              "        docLink.innerHTML = docLinkHtml;\n",
              "        element.appendChild(docLink);\n",
              "      }\n",
              "    </script>\n",
              "  </div>\n",
              "\n",
              "\n",
              "    <div id=\"df-4723ed40-69a7-408c-9816-8af82694a510\">\n",
              "      <button class=\"colab-df-quickchart\" onclick=\"quickchart('df-4723ed40-69a7-408c-9816-8af82694a510')\"\n",
              "                title=\"Suggest charts\"\n",
              "                style=\"display:none;\">\n",
              "\n",
              "<svg xmlns=\"http://www.w3.org/2000/svg\" height=\"24px\"viewBox=\"0 0 24 24\"\n",
              "     width=\"24px\">\n",
              "    <g>\n",
              "        <path d=\"M19 3H5c-1.1 0-2 .9-2 2v14c0 1.1.9 2 2 2h14c1.1 0 2-.9 2-2V5c0-1.1-.9-2-2-2zM9 17H7v-7h2v7zm4 0h-2V7h2v10zm4 0h-2v-4h2v4z\"/>\n",
              "    </g>\n",
              "</svg>\n",
              "      </button>\n",
              "\n",
              "<style>\n",
              "  .colab-df-quickchart {\n",
              "      --bg-color: #E8F0FE;\n",
              "      --fill-color: #1967D2;\n",
              "      --hover-bg-color: #E2EBFA;\n",
              "      --hover-fill-color: #174EA6;\n",
              "      --disabled-fill-color: #AAA;\n",
              "      --disabled-bg-color: #DDD;\n",
              "  }\n",
              "\n",
              "  [theme=dark] .colab-df-quickchart {\n",
              "      --bg-color: #3B4455;\n",
              "      --fill-color: #D2E3FC;\n",
              "      --hover-bg-color: #434B5C;\n",
              "      --hover-fill-color: #FFFFFF;\n",
              "      --disabled-bg-color: #3B4455;\n",
              "      --disabled-fill-color: #666;\n",
              "  }\n",
              "\n",
              "  .colab-df-quickchart {\n",
              "    background-color: var(--bg-color);\n",
              "    border: none;\n",
              "    border-radius: 50%;\n",
              "    cursor: pointer;\n",
              "    display: none;\n",
              "    fill: var(--fill-color);\n",
              "    height: 32px;\n",
              "    padding: 0;\n",
              "    width: 32px;\n",
              "  }\n",
              "\n",
              "  .colab-df-quickchart:hover {\n",
              "    background-color: var(--hover-bg-color);\n",
              "    box-shadow: 0 1px 2px rgba(60, 64, 67, 0.3), 0 1px 3px 1px rgba(60, 64, 67, 0.15);\n",
              "    fill: var(--button-hover-fill-color);\n",
              "  }\n",
              "\n",
              "  .colab-df-quickchart-complete:disabled,\n",
              "  .colab-df-quickchart-complete:disabled:hover {\n",
              "    background-color: var(--disabled-bg-color);\n",
              "    fill: var(--disabled-fill-color);\n",
              "    box-shadow: none;\n",
              "  }\n",
              "\n",
              "  .colab-df-spinner {\n",
              "    border: 2px solid var(--fill-color);\n",
              "    border-color: transparent;\n",
              "    border-bottom-color: var(--fill-color);\n",
              "    animation:\n",
              "      spin 1s steps(1) infinite;\n",
              "  }\n",
              "\n",
              "  @keyframes spin {\n",
              "    0% {\n",
              "      border-color: transparent;\n",
              "      border-bottom-color: var(--fill-color);\n",
              "      border-left-color: var(--fill-color);\n",
              "    }\n",
              "    20% {\n",
              "      border-color: transparent;\n",
              "      border-left-color: var(--fill-color);\n",
              "      border-top-color: var(--fill-color);\n",
              "    }\n",
              "    30% {\n",
              "      border-color: transparent;\n",
              "      border-left-color: var(--fill-color);\n",
              "      border-top-color: var(--fill-color);\n",
              "      border-right-color: var(--fill-color);\n",
              "    }\n",
              "    40% {\n",
              "      border-color: transparent;\n",
              "      border-right-color: var(--fill-color);\n",
              "      border-top-color: var(--fill-color);\n",
              "    }\n",
              "    60% {\n",
              "      border-color: transparent;\n",
              "      border-right-color: var(--fill-color);\n",
              "    }\n",
              "    80% {\n",
              "      border-color: transparent;\n",
              "      border-right-color: var(--fill-color);\n",
              "      border-bottom-color: var(--fill-color);\n",
              "    }\n",
              "    90% {\n",
              "      border-color: transparent;\n",
              "      border-bottom-color: var(--fill-color);\n",
              "    }\n",
              "  }\n",
              "</style>\n",
              "\n",
              "      <script>\n",
              "        async function quickchart(key) {\n",
              "          const quickchartButtonEl =\n",
              "            document.querySelector('#' + key + ' button');\n",
              "          quickchartButtonEl.disabled = true;  // To prevent multiple clicks.\n",
              "          quickchartButtonEl.classList.add('colab-df-spinner');\n",
              "          try {\n",
              "            const charts = await google.colab.kernel.invokeFunction(\n",
              "                'suggestCharts', [key], {});\n",
              "          } catch (error) {\n",
              "            console.error('Error during call to suggestCharts:', error);\n",
              "          }\n",
              "          quickchartButtonEl.classList.remove('colab-df-spinner');\n",
              "          quickchartButtonEl.classList.add('colab-df-quickchart-complete');\n",
              "        }\n",
              "        (() => {\n",
              "          let quickchartButtonEl =\n",
              "            document.querySelector('#df-4723ed40-69a7-408c-9816-8af82694a510 button');\n",
              "          quickchartButtonEl.style.display =\n",
              "            google.colab.kernel.accessAllowed ? 'block' : 'none';\n",
              "        })();\n",
              "      </script>\n",
              "    </div>\n",
              "\n",
              "    </div>\n",
              "  </div>\n"
            ],
            "application/vnd.google.colaboratory.intrinsic+json": {
              "type": "dataframe",
              "variable_name": "df",
              "summary": "{\n  \"name\": \"df\",\n  \"rows\": 2191,\n  \"fields\": [\n    {\n      \"column\": \"Subject\",\n      \"properties\": {\n        \"dtype\": \"string\",\n        \"num_unique_values\": 1251,\n        \"samples\": [\n          \"Engage Energy America LLC\",\n          \"Re: CRM system\",\n          \"Sally's itinerary 1/2/01\"\n        ],\n        \"semantic_type\": \"\",\n        \"description\": \"\"\n      }\n    },\n    {\n      \"column\": \"body\",\n      \"properties\": {\n        \"dtype\": \"string\",\n        \"num_unique_values\": 1539,\n        \"samples\": [\n          \"Don/Juan:\\n\\nSanjay is interested in an opportunity on the 24 hour desk.  Please advise of your interest.\\n\\nThanks,\\nJohnny\\n\\n \",\n          \"Don,\\n\\nWhat time are you getting married on September 22nd? Is the trip to Mexico\\nstill on and if so, what is the date for that and who do I need to contact\\nfor details? Also, do you have Travis's phone number so I can get a resume\\nfrom him to show to Duke Human Resources?\\n\\nSorry about the question barrage.\\n\\nBob Poston\\nDuke Energy\\n(713) 989-1712\\n(713) 989-0266 fax\\n(713) 204-7936 cell\\nrdposton@duke-energy.com\",\n          \"The promotional memo came out a few hours too late today for me to be able to \\nmention it when we talked this afternoon.  Congratulations on your promotion \\nto managing director!  --Sally \"\n        ],\n        \"semantic_type\": \"\",\n        \"description\": \"\"\n      }\n    },\n    {\n      \"column\": \"date\",\n      \"properties\": {\n        \"dtype\": \"object\",\n        \"num_unique_values\": 690,\n        \"samples\": [\n          \"8/29/2010\",\n          \"8/27/2010\",\n          \"4/16/2010\"\n        ],\n        \"semantic_type\": \"\",\n        \"description\": \"\"\n      }\n    },\n    {\n      \"column\": \"from\",\n      \"properties\": {\n        \"dtype\": \"category\",\n        \"num_unique_values\": 10,\n        \"samples\": [\n          \"john.arnold@enron.com\",\n          \"eric.bass@enron.com\",\n          \"patti.thompson@enron.com\"\n        ],\n        \"semantic_type\": \"\",\n        \"description\": \"\"\n      }\n    }\n  ]\n}"
            }
          },
          "metadata": {},
          "execution_count": 18
        }
      ],
      "source": [
        "df.head()"
      ]
    },
    {
      "cell_type": "markdown",
      "metadata": {
        "id": "11YjCnXQTiXC"
      },
      "source": [
        "**Observations :**\n",
        "The dataset contains columns: Subject, body, date, from .\n",
        "The date column needs conversion to datetime\n",
        "The body column contains the text of the messages-this can be used for sentiment analysis.\n",
        "The from column indicates the sender/employee.\n",
        "There are no missing values\n",
        "Some email subjects has \"No Subject\" therefore the body of the email need to be used for sentiment analysis.\n",
        "\n",
        "\n",
        "\n",
        "\n"
      ]
    },
    {
      "cell_type": "code",
      "execution_count": 19,
      "metadata": {
        "id": "NPHTrAdMWS-c"
      },
      "outputs": [],
      "source": [
        "df.rename(columns={'from': 'employee_email', 'body': 'message'}, inplace=True) # I renamed the columns for better understanding"
      ]
    },
    {
      "cell_type": "markdown",
      "metadata": {
        "id": "xvumNFUd2pYO"
      },
      "source": [
        "## 2. Date Parsing and Formatting"
      ]
    },
    {
      "cell_type": "code",
      "execution_count": 20,
      "metadata": {
        "id": "1U87xNXsK4wj"
      },
      "outputs": [],
      "source": [
        "df['date'] = pd.to_datetime(df['date'])  # Converted the date column to datetime format for time-based grouping."
      ]
    },
    {
      "cell_type": "markdown",
      "metadata": {
        "id": "ib0-gQKb2pYO"
      },
      "source": [
        "## 3. Sentiment Analysis"
      ]
    },
    {
      "cell_type": "code",
      "execution_count": 21,
      "metadata": {
        "colab": {
          "base_uri": "https://localhost:8080/"
        },
        "id": "nGSKIsQTWgdE",
        "outputId": "43e43f54-f3d4-4c7c-b432-19b30ac19896"
      },
      "outputs": [
        {
          "output_type": "stream",
          "name": "stderr",
          "text": [
            "Device set to use cpu\n"
          ]
        }
      ],
      "source": [
        "# Initialize sentiment model\n",
        "sentiment_pipeline = pipeline(\n",
        "    \"sentiment-analysis\",\n",
        "    model=\"distilbert-base-uncased-finetuned-sst-2-english\"\n",
        ")"
      ]
    },
    {
      "cell_type": "markdown",
      "metadata": {
        "id": "-xBekREaWlrj"
      },
      "source": [
        "**Observations:For sentiment analysis, I used the distilbert-base-uncased-finetuned-sst-2-english model. I have chosen this model because it's an improved version of the most popular \"BERT\".**"
      ]
    },
    {
      "cell_type": "markdown",
      "metadata": {
        "id": "wybHnKPv2pYP"
      },
      "source": [
        "### Applying Sentiment Analysis with LLM (DistilBERT via Hugging Face):\n"
      ]
    },
    {
      "cell_type": "code",
      "execution_count": 22,
      "metadata": {
        "id": "AOBxh6-LXlxl"
      },
      "outputs": [],
      "source": [
        "# Applying LLM model for sentiment\n",
        "df['sentiment'] = df['message'].apply(lambda x: sentiment_pipeline(str(x)[:512])[0]['label'])\n",
        "# used the model to label each message.\n"
      ]
    },
    {
      "cell_type": "markdown",
      "source": [
        "**Notes:I used Hugging Face’s sentiment analysis pipeline, which loads a DistilBERT model fine-tuned on SST-2.\n",
        "I applied it to each message to classify the sentiment as either \"POSITIVE\" or \"NEGATIVE\".\n",
        "Since the model has a token limit, I only passed the first 512 characters of each message to avoid truncation errors.**"
      ],
      "metadata": {
        "id": "Ke2F0g4d3edd"
      }
    },
    {
      "cell_type": "code",
      "execution_count": 23,
      "metadata": {
        "id": "x9PXDLiRXdy2"
      },
      "outputs": [],
      "source": [
        "# Normalize to Positive/Negative\n",
        "df['sentiment'] = df['sentiment'].map({'POSITIVE': 'Positive', 'NEGATIVE': 'Negative'})"
      ]
    },
    {
      "cell_type": "markdown",
      "source": [
        "**Notes:I did this to ensure uniformity in labels—especially useful when plotting results, grouping by sentiment, or feeding the data into a model that’s case-sensitive.**"
      ],
      "metadata": {
        "id": "rGxJ6laCC-GP"
      }
    },
    {
      "cell_type": "markdown",
      "source": [
        "## 4. Adding Neutral Sentiment Using TextBlob\n",
        "Since the transformer model doesn’t detect Neutral, we use TextBlob polarity scores to label Neutral messages."
      ],
      "metadata": {
        "id": "-_JnH9XE384J"
      }
    },
    {
      "cell_type": "code",
      "execution_count": 24,
      "metadata": {
        "id": "GBqozBiDX0Yh"
      },
      "outputs": [],
      "source": [
        "# Using TextBlob for Neutral classification\n",
        "df['sentiment_score'] = df['message'].apply(lambda x: TextBlob(str(x)).sentiment.polarity)  # I used TextBlob to calculate polarity.\n",
        "df.loc[df['sentiment_score'].between(-0.1, 0.1), 'sentiment'] = 'Neutral' # If the polarity is near zero, I classified it as Neutral.\n",
        "df.drop(columns='sentiment_score', inplace=True)  # Dropped the temporary score column."
      ]
    },
    {
      "cell_type": "markdown",
      "source": [
        "**Notes**:I used TextBlob to calculate the polarity score of each message. This gives a value between -1 (very negative) and +1 (very positive).\n",
        "\n",
        "If the polarity was between -0.1 and 0.1, I treated it as Neutral—since the message isn’t clearly positive or negative.\n",
        "\n",
        "Finally, I removed the temporary sentiment_score column since I no longer needed it.\n",
        "\n",
        "--This helped improve the granularity of my sentiment analysis by not forcing all messages into just Positive or Negative classes."
      ],
      "metadata": {
        "id": "xywHjPV_DXeI"
      }
    },
    {
      "cell_type": "code",
      "execution_count": 25,
      "metadata": {
        "colab": {
          "base_uri": "https://localhost:8080/"
        },
        "id": "P-ZLJo2HX-Ub",
        "outputId": "4ad5b9e9-6c54-43ca-a2ae-b32e8042c908"
      },
      "outputs": [
        {
          "output_type": "stream",
          "name": "stdout",
          "text": [
            "            employee_email                                            message  \\\n",
            "0     sally.beck@enron.com  EnronOptions Announcement\\n\\n\\nWe have updated...   \n",
            "1      eric.bass@enron.com  Marc,\\n\\nUnfortunately, today is not going to ...   \n",
            "2     sally.beck@enron.com  When: Wednesday, June 06, 2001 10:00 AM-11:00 ...   \n",
            "3  johnny.palmer@enron.com  we were thinking papasitos (we can meet somewh...   \n",
            "4  lydia.delgado@enron.com  Since you never gave me the $20 for the last t...   \n",
            "\n",
            "  sentiment  \n",
            "0  Negative  \n",
            "1   Neutral  \n",
            "2   Neutral  \n",
            "3  Negative  \n",
            "4   Neutral  \n"
          ]
        }
      ],
      "source": [
        "print(df[['employee_email', 'message', 'sentiment']].head())"
      ]
    },
    {
      "cell_type": "markdown",
      "metadata": {
        "id": "b3XQdWuqMH1U"
      },
      "source": [
        "#EDA"
      ]
    },
    {
      "cell_type": "code",
      "execution_count": 26,
      "metadata": {
        "colab": {
          "base_uri": "https://localhost:8080/",
          "height": 410
        },
        "id": "WwAPQNb6MBa0",
        "outputId": "cf81125a-e349-4f29-de63-7f5d0e4d4045"
      },
      "outputs": [
        {
          "output_type": "display_data",
          "data": {
            "text/plain": [
              "<Figure size 600x400 with 1 Axes>"
            ],
            "image/png": "[encoded data removed]"
          },
          "metadata": {}
        }
      ],
      "source": [
        "plt.figure(figsize=(6,4))\n",
        "sns.countplot(data=df, x='sentiment', order=['Positive','Neutral','Negative'])  # Created a bar plot to show sentiment distribution.\n",
        "plt.title(\"Sentiment Distribution\")\n",
        "plt.savefig(\"sentiment_distribution.png\")"
      ]
    },
    {
      "cell_type": "markdown",
      "source": [
        "**Notes: To understand how the sentiments are distributed in my dataset, I created a bar chart using Seaborn:**\n",
        "\n",
        "I used countplot() to show how many messages fall into each sentiment category: Positive, Neutral, and Negative.\n",
        "\n",
        "The Neutral class has the highest count, which makes sense since many messages are likely informational or non-expressive.\n",
        "\n",
        "I ordered the x-axis labels manually to keep the sentiment flow intuitive.\n",
        "\n",
        "I also saved the plot for documentation."
      ],
      "metadata": {
        "id": "10bKLulTDxqz"
      }
    },
    {
      "cell_type": "markdown",
      "source": [
        "\n",
        "\n",
        "**Observations:**This plot helped me quickly validate that the Neutral classification worked as expected after using TextBlob."
      ],
      "metadata": {
        "id": "CLadd_EqD5mf"
      }
    },
    {
      "cell_type": "code",
      "execution_count": 31,
      "metadata": {
        "colab": {
          "base_uri": "https://localhost:8080/",
          "height": 628
        },
        "id": "D_KtqgfnMbF4",
        "outputId": "3e986266-bdb2-4fac-d698-dc78916189c0"
      },
      "outputs": [
        {
          "output_type": "display_data",
          "data": {
            "text/plain": [
              "<Figure size 1000x600 with 1 Axes>"
            ],
            "image/png": "[encoded data removed]"
          },
          "metadata": {}
        }
      ],
      "source": [
        "# Sentiment over time\n",
        "monthly_sentiment = df.groupby([df['date'].dt.to_period('M'), 'sentiment']).size().unstack().fillna(0)  # aggregated sentiment counts per month.\n",
        "monthly_sentiment.plot(kind='bar', stacked=True, figsize=(10,6))  # I created a stacked bar chart.\n",
        "plt.title(\"Monthly Sentiment Trends\")\n",
        "plt.savefig(\"monthly_sentiment_trends.png\")"
      ]
    },
    {
      "cell_type": "markdown",
      "source": [
        "**Notes:**First, I grouped the data by month and sentiment, using dt.to_period('M') to collapse daily timestamps into monthly buckets.\n",
        "\n",
        "Then I counted the number of messages in each sentiment class per month using .size() and reshaped the data with .unstack().\n",
        "\n",
        "Missing values were filled with 0 to avoid gaps in the plot.\n",
        "\n",
        "Finally, I plotted a stacked bar chart to show how Positive, Neutral, and Negative sentiments varied across time.\n",
        "\n",
        "---This visualization helped me identify any spikes or drops in specific sentiment types."
      ],
      "metadata": {
        "id": "at0Rw8EtE67K"
      }
    },
    {
      "cell_type": "code",
      "execution_count": 32,
      "metadata": {
        "colab": {
          "base_uri": "https://localhost:8080/",
          "height": 521
        },
        "id": "SNeVCJ2UjtZv",
        "outputId": "426fd585-ac75-4f15-9f04-a8a97958c7e4"
      },
      "outputs": [
        {
          "output_type": "display_data",
          "data": {
            "text/plain": [
              "<Figure size 600x600 with 1 Axes>"
            ],
            "image/png": "[encoded data removed]"
          },
          "metadata": {}
        }
      ],
      "source": [
        "plt.figure(figsize=(6,6))\n",
        "df['sentiment'].value_counts().plot(\n",
        "    kind='pie', autopct='%1.1f%%', colors=['lightgreen', 'lightcoral', 'lightgray'], startangle=90\n",
        ")\n",
        "plt.title(\"Overall Sentiment Distribution\")\n",
        "plt.ylabel(\"\")\n",
        "plt.show()\n"
      ]
    },
    {
      "cell_type": "markdown",
      "source": [
        "**Notes:**I used value_counts().plot(kind='pie') to show the percentage of each sentiment class.\n",
        "\n",
        "The autopct='%1.1f%%' option displays each slice with one decimal precision.\n",
        "\n",
        "I manually set the colors to make the chart more intuitive:\n",
        "\n",
        "lightgreen for Positive\n",
        "\n",
        "lightcoral for Negative\n",
        "\n",
        "lightgray for Neutral\n",
        "\n",
        "I removed the y-axis label to keep the chart clean and centered it with startangle=90.\n",
        "\n",
        "---This chart gave me a quick, high-level summary of how balanced or imbalanced the sentiment distribution is across the dataset."
      ],
      "metadata": {
        "id": "qO16nOEIFVLE"
      }
    },
    {
      "cell_type": "markdown",
      "metadata": {
        "id": "auXlyar-nFGX"
      },
      "source": [
        "**Summary of EDA : I conducted exploratory data analysis by visualizing the sentiment distribution and monthly sentiment trends. These visualizations help reveal shifts in employee engagement and communication tone over time.**\n"
      ]
    },
    {
      "cell_type": "markdown",
      "metadata": {
        "id": "pPt71lalU6Pe"
      },
      "source": [
        "The charts displays monthly sentiment (Negative, Neutral, Positive) in employee messages from January 2010 to December 2011. Neutral messages are consistently the most common. Negative messages are the least common but fluctuate, with slight increases in early 2010 and mid-2011. Positive messages are the second smallest category. Overall, there's no major long-term shift in sentiment proportions, just monthly variations."
      ]
    },
    {
      "cell_type": "markdown",
      "metadata": {
        "id": "dsZa9FMGMqDX"
      },
      "source": [
        "# 5. Employee Score Calculation"
      ]
    },
    {
      "cell_type": "markdown",
      "source": [
        "**Notes:**I defined a sentiment scoring system where:\n",
        "\n",
        "Positive = +1\n",
        "\n",
        "Neutral = 0\n",
        "\n",
        "Negative = -1\n",
        "\n",
        "Each message was mapped to its respective score using .map().\n",
        "\n",
        "I extracted the month from the date so I could group data by month.\n",
        "\n",
        "Then, I calculated the total sentiment score per employee per month.\n",
        "\n",
        "--- This gives me a numerical view of overall sentiment trends per person, which I can use to rank employees, detect changes in morale, or flag potential risk."
      ],
      "metadata": {
        "id": "n-fzuUvrFwp4"
      }
    },
    {
      "cell_type": "code",
      "execution_count": 36,
      "metadata": {
        "colab": {
          "base_uri": "https://localhost:8080/"
        },
        "id": "YFm6Bc4ZMks3",
        "outputId": "12ce7791-8f78-46c9-84e9-c769c8606c47"
      },
      "outputs": [
        {
          "output_type": "stream",
          "name": "stdout",
          "text": [
            "                employee_email    month  score\n",
            "0  bobette.riner@ipgdirect.com  2010-01     -2\n",
            "1  bobette.riner@ipgdirect.com  2010-02     -1\n",
            "2  bobette.riner@ipgdirect.com  2010-03      0\n",
            "3  bobette.riner@ipgdirect.com  2010-04     -2\n",
            "4  bobette.riner@ipgdirect.com  2010-05      1\n"
          ]
        }
      ],
      "source": [
        "sentiment_map = {\"Positive\": 1, \"Negative\": -1, \"Neutral\": 0}  # I tried to defin score values for each sentiment.\n",
        "df['score'] = df['sentiment'].map(sentiment_map)  # Mapped each message to a numeric score.\n",
        "df['month'] = df['date'].dt.to_period('M')  # Extracted month from date.\n",
        "monthly_scores = df.groupby(['employee_email', 'month'])['score'].sum().reset_index()  # total scores per employee per month.\n",
        "print(monthly_scores.head())"
      ]
    },
    {
      "cell_type": "markdown",
      "metadata": {
        "id": "miykUIOcnN2H"
      },
      "source": [
        "**Each message was scored: +1 for Positive, -1 for Negative, and 0 for Neutral. These were aggregated monthly per employee to calculate their overall sentiment score, which reflects their communication tone and engagement.**"
      ]
    },
    {
      "cell_type": "markdown",
      "metadata": {
        "id": "IyEwu7cHM_5w"
      },
      "source": [
        "## 6. Ranking Employees by Sentiment\n"
      ]
    },
    {
      "cell_type": "markdown",
      "source": [
        "**Notes:To highlight employees with the most and least positive sentiment each month, I created monthly rankings based on their total sentiment scores:**\n",
        "\n",
        "I first converted the month to a string so it displays nicely in the output.\n",
        "\n",
        "Then, I grouped by month and sorted employees by score (descending) to get the top 3 most positive employees.\n",
        "\n",
        "Similarly, I sorted by score (ascending) to find the bottom 3, or most negative, employees.\n",
        "\n",
        "I used employee_email as a secondary sort key for consistency and to break ties alphabetically.\n",
        "\n",
        "I reset the index for clean display of the final results.\n",
        "\n",
        "--- This helped me identify which employees are consistently expressing positive or negative sentiment—useful for performance reviews, engagement analysis, or flight risk detection."
      ],
      "metadata": {
        "id": "-DaqxGP_F6CQ"
      }
    },
    {
      "cell_type": "code",
      "execution_count": 38,
      "metadata": {
        "colab": {
          "base_uri": "https://localhost:8080/"
        },
        "id": "xh13GUvgM8bv",
        "outputId": "dd4b8f7a-70b8-4728-a625-14f10f8a4585"
      },
      "outputs": [
        {
          "output_type": "stream",
          "name": "stdout",
          "text": [
            "Top 3 Positive Employees:\n",
            "             employee_email    month  score\n",
            "0     john.arnold@enron.com  2010-01      1\n",
            "1    don.baughman@enron.com  2010-01      0\n",
            "2       eric.bass@enron.com  2010-01      0\n",
            "3    don.baughman@enron.com  2010-02      2\n",
            "4   lydia.delgado@enron.com  2010-02      1\n",
            "..                      ...      ...    ...\n",
            "67   don.baughman@enron.com  2011-11      2\n",
            "68      eric.bass@enron.com  2011-11      1\n",
            "69      eric.bass@enron.com  2011-12      4\n",
            "70  johnny.palmer@enron.com  2011-12      2\n",
            "71  lydia.delgado@enron.com  2011-12      2\n",
            "\n",
            "[72 rows x 3 columns]\n",
            "Top 3 Negative Employees:\n",
            "                 employee_email    month  score\n",
            "0      patti.thompson@enron.com  2010-01     -3\n",
            "1          sally.beck@enron.com  2010-01     -3\n",
            "2   bobette.riner@ipgdirect.com  2010-01     -2\n",
            "3         john.arnold@enron.com  2010-02     -3\n",
            "4       kayne.coulter@enron.com  2010-02     -3\n",
            "..                          ...      ...    ...\n",
            "67      johnny.palmer@enron.com  2011-11     -1\n",
            "68      kayne.coulter@enron.com  2011-11     -1\n",
            "69         sally.beck@enron.com  2011-12     -1\n",
            "70  bobette.riner@ipgdirect.com  2011-12      0\n",
            "71        john.arnold@enron.com  2011-12      0\n",
            "\n",
            "[72 rows x 3 columns]\n"
          ]
        },
        {
          "output_type": "stream",
          "name": "stderr",
          "text": [
            "<ipython-input-38-a2533895dc42>:3: DeprecationWarning: DataFrameGroupBy.apply operated on the grouping columns. This behavior is deprecated, and in a future version of pandas the grouping columns will be excluded from the operation. Either pass `include_groups=False` to exclude the groupings or explicitly select the grouping columns after groupby to silence this warning.\n",
            "  top_positive = ranked.groupby('month').apply(lambda x: x.sort_values(by=['score','employee_email'], ascending=[False, True]).head(3))  # Top 3 by positive score.\n",
            "<ipython-input-38-a2533895dc42>:4: DeprecationWarning: DataFrameGroupBy.apply operated on the grouping columns. This behavior is deprecated, and in a future version of pandas the grouping columns will be excluded from the operation. Either pass `include_groups=False` to exclude the groupings or explicitly select the grouping columns after groupby to silence this warning.\n",
            "  top_negative = ranked.groupby('month').apply(lambda x: x.sort_values(by=['score','employee_email']).head(3))  # Bottom 3 by negative score.\n"
          ]
        }
      ],
      "source": [
        "ranked = monthly_scores.copy()  # Copied the score data to a new DataFrame.\n",
        "ranked['month'] = ranked['month'].astype(str)  # Converting to string\n",
        "top_positive = ranked.groupby('month').apply(lambda x: x.sort_values(by=['score','employee_email'], ascending=[False, True]).head(3))  # Top 3 by positive score.\n",
        "top_negative = ranked.groupby('month').apply(lambda x: x.sort_values(by=['score','employee_email']).head(3))  # Bottom 3 by negative score.\n",
        "top_positive.reset_index(drop=True, inplace=True)  # Reset index for display.\n",
        "top_negative.reset_index(drop=True, inplace=True)  # Same for negative ranking.\n",
        "print(\"Top 3 Positive Employees:\")\n",
        "print(top_positive)\n",
        "print(\"Top 3 Negative Employees:\")\n",
        "print(top_negative)"
      ]
    },
    {
      "cell_type": "markdown",
      "metadata": {
        "id": "eHZZMEG2nfAX"
      },
      "source": [
        "**I ranked employees monthly by their sentiment scores. The top three with the highest scores were identified as most positive, and the bottom three with the lowest scores were considered most negative. Ties were broken alphabetically.**\n"
      ]
    },
    {
      "cell_type": "markdown",
      "metadata": {
        "id": "P5AtfKXjNawf"
      },
      "source": [
        "## 7. Flight Risk Detection\n"
      ]
    },
    {
      "cell_type": "markdown",
      "source": [
        "**Notes: To identify potential flight risks, I wrote a loop to detect employees who sent a high volume of negative messages in a short time:**"
      ],
      "metadata": {
        "id": "hBZXKethGTAM"
      }
    },
    {
      "cell_type": "markdown",
      "source": [
        "I filtered the data to include only negative sentiment messages.\n",
        "\n",
        "For each employee, I sorted their messages by date and used a 30-day sliding window to find clusters of negativity.\n",
        "\n",
        "If an employee had 4 or more negative emails in any 30-day span, I flagged them as a potential flight risk.\n",
        "\n",
        "I printed out the flagged messages for manual inspection and stored their emails in the flight_risks list.\n",
        "\n"
      ],
      "metadata": {
        "id": "87bzjllcGaiG"
      }
    },
    {
      "cell_type": "code",
      "execution_count": 39,
      "metadata": {
        "colab": {
          "base_uri": "https://localhost:8080/"
        },
        "id": "hW0_YfeyNdkB",
        "outputId": "5d238c89-b51b-48bb-de46-e97f25d786c9"
      },
      "outputs": [
        {
          "output_type": "stream",
          "name": "stdout",
          "text": [
            "\n",
            "Flight risk detected: sally.beck@enron.com\n",
            "Negative messages in 30-day window starting 2010-02-15:\n",
            "           date                                       full_message\n",
            "754  2010-02-15  After 3 horrific weeks of being in the no-inte...\n",
            "1128 2010-02-20  there have only been 2 (both by matt) is 1,14 ...\n",
            "662  2010-03-06  he will be taking it soon\\n\\n\\n\\n\\n\"K. Bass\" <...\n",
            "261  2010-03-09  I was thinking of having a get together at my ...\n",
            "Total negative messages in this period: 4\n",
            "\n",
            "Flight risk detected: johnny.palmer@enron.com\n",
            "Negative messages in 30-day window starting 2010-02-09:\n",
            "           date                                       full_message\n",
            "1734 2010-02-09  Life is busy at Enron and I literally receive ...\n",
            "695  2010-02-15  We have received the executed Master Power Pur...\n",
            "1342 2010-02-22  \\n[IMAGE][IMAGE]  Don, \\t[IMAGE] \\t\\n\\n\\n  \\t\\...\n",
            "655  2010-02-25  Attached is a revised Credit Watch listing as ...\n",
            "1559 2010-02-26  1.  2- Filet Mignons\\n2.  Green Beans\\n3.  Bac...\n",
            "676  2010-03-09      Thank you for requesting additional inform...\n",
            "975  2010-03-10                       comed sucks!\\n\\n713-853-6203\n",
            "1405 2010-03-11  We have received the executed EEI Master Power...\n",
            "Total negative messages in this period: 8\n",
            "\n",
            "Flight risk detected: eric.bass@enron.com\n",
            "Negative messages in 30-day window starting 2010-02-25:\n",
            "           date                                       full_message\n",
            "1310 2010-02-25  Don, \\n\\nJoe is a guy you definitely want to c...\n",
            "922  2010-02-26  Entergy's new OASIS node is now available.  Th...\n",
            "2002 2010-03-21  The 24th (2) pick and the 42nd (4) pick for yo...\n",
            "1146 2010-03-23  sorry\\n\\n\\n\\n\\n\"Bass, Jason\" <Jason.Bass2@COMP...\n",
            "Total negative messages in this period: 4\n",
            "\n",
            "Flight risk detected: kayne.coulter@enron.com\n",
            "Negative messages in 30-day window starting 2010-01-03:\n",
            "           date                                       full_message\n",
            "1862 2010-01-03  i guess it is free no matter what\\n\\n\\n\\n\\n\"Ba...\n",
            "162  2010-01-14  Hey Dad,\\n\\nMom wrote a note to me about your ...\n",
            "1601 2010-01-23  Sally and Bob, \\nPlease visit your GIS profile...\n",
            "1833 2010-01-29  CALENDAR ENTRY:\\tAPPOINTMENT\\n\\nDescription:\\n...\n",
            "Total negative messages in this period: 4\n",
            "\n",
            "Flight risk detected: patti.thompson@enron.com\n",
            "Negative messages in 30-day window starting 2010-01-12:\n",
            "           date                                       full_message\n",
            "11   2010-01-12  i will go\\n\\n\\n\\n\\n\"Larry W. Bass\" <lwbthemari...\n",
            "318  2010-01-13  We will send you these three new hourly indexe...\n",
            "1311 2010-01-15  Steven Coulter is confirmed for a telephone in...\n",
            "80   2010-01-22  i have not gotten a good response so i think s...\n",
            "493  2010-01-25  Cooper,\\n\\n Did you add some more security to ...\n",
            "1323 2010-02-07  Around midnight last night as I was creating o...\n",
            "Total negative messages in this period: 6\n",
            "\n",
            "Flight risk detected: john.arnold@enron.com\n",
            "Negative messages in 30-day window starting 2010-02-02:\n",
            "           date                                       full_message\n",
            "62   2010-02-02  The following is the schedule for Mechelle's i...\n",
            "1586 2010-02-13  Sally -\\n\\nThese are the steps that we have ta...\n",
            "976  2010-02-13  jj johnson has shown nothing in preseason wher...\n",
            "1298 2010-02-22  \\n\\t Gastrader  Free Trial!  NEW!         Up t...\n",
            "2139 2010-02-26  We have received the executed Master Energy Pu...\n",
            "420  2010-03-03  Michelle:  This is a stab at something to incl...\n",
            "Total negative messages in this period: 6\n",
            "\n",
            "Flight risk detected: don.baughman@enron.com\n",
            "Negative messages in 30-day window starting 2010-02-20:\n",
            "           date                                       full_message\n",
            "1176 2010-02-20  what do you think?\\n\\n\\n\\n\\n\"Bass, Jason\" <Jas...\n",
            "584  2010-02-22  these two are right across the street\\n\\nhttp:...\n",
            "758  2010-02-25  This warning is sent automatically to inform y...\n",
            "701  2010-02-25  http://rivals100.rivals.com/default.asp?sid=13...\n",
            "601  2010-03-18  The reports below show about 2000 MW of new ge...\n",
            "Total negative messages in this period: 5\n",
            "\n",
            "Flight risk detected: bobette.riner@ipgdirect.com\n",
            "Negative messages in 30-day window starting 2010-01-23:\n",
            "           date                                       full_message\n",
            "429  2010-01-23  Attached is the new list of authorized signers...\n",
            "276  2010-01-25  We have received the executed EEI Master Power...\n",
            "354  2010-02-08  To whom it may concern:\\n\\nIn previous years E...\n",
            "347  2010-02-17  We will send you these three new hourly indexe...\n",
            "1330 2010-02-21  sorry if we do around 80\\n\\n\\n\\n\\nBryan Hull\\n...\n",
            "Total negative messages in this period: 5\n",
            "\n",
            "Flight risk detected: rhonda.denton@enron.com\n",
            "Negative messages in 30-day window starting 2010-07-19:\n",
            "           date                                       full_message\n",
            "1222 2010-07-19  \\n\\t[IMAGE][IMAGE]\\t\\n  \\t\\t\\n   Dear Don,  Cl...\n",
            "1896 2010-08-06  \\n [IMAGE]  Dear Don:   Heading back home for ...\n",
            "596  2010-08-11  Thought you might be interested in this link f...\n",
            "1050 2010-08-17  i doubt it - he usually shops in town for his\\...\n",
            "Total negative messages in this period: 4\n",
            "\n",
            "Flight risk detected: lydia.delgado@enron.com\n",
            "Negative messages in 30-day window starting 2010-01-02:\n",
            "           date                                       full_message\n",
            "1753 2010-01-02  Melissa,\\n\\nHere are the accrual values for Q1...\n",
            "1509 2010-01-04  Your mailbox has exceeded one or more size lim...\n",
            "1261 2010-01-14  \\tTASK ASSIGNMENT\\n\\n\\nTask Priority:\\t\\t1\\nTa...\n",
            "1582 2010-01-26  Thanks for the invitation.  Unfortunately, I w...\n",
            "Total negative messages in this period: 4\n"
          ]
        }
      ],
      "source": [
        "flight_risks = []\n",
        "df_neg = df[df['sentiment'] == 'Negative']\n",
        "for emp in df_neg['employee_email'].unique():\n",
        "    emp_msgs = df_neg[df_neg['employee_email'] == emp].sort_values('date')\n",
        "    for i in range(len(emp_msgs)):\n",
        "        window = emp_msgs[(emp_msgs['date'] >= emp_msgs.iloc[i]['date']) &\n",
        "                          (emp_msgs['date'] <= emp_msgs.iloc[i]['date'] + timedelta(days=30))]\n",
        "        if len(window) >= 4:\n",
        "            flight_risks.append(emp)\n",
        "            print(f\"\\nFlight risk detected: {emp}\")\n",
        "            print(f\"Negative messages in 30-day window starting {emp_msgs.iloc[i]['date'].date()}:\")\n",
        "            print(window[['date', 'message']].rename(columns={'message': 'full_message'}))\n",
        "            print(f\"Total negative messages in this period: {len(window)}\")\n",
        "            break\n",
        "flight_risks = list(set(flight_risks))"
      ]
    },
    {
      "cell_type": "markdown",
      "metadata": {
        "id": "jWdTrejjnmn-"
      },
      "source": [
        "**I flagged any employee as a flight risk if they sent four or more negative messages within any rolling 30-day period. I printed each flagged case to manually verify message content and context.**"
      ]
    },
    {
      "cell_type": "markdown",
      "metadata": {
        "id": "UrOUFxvVNvyI"
      },
      "source": [
        "## 8. Baseline Model: Linear Regression"
      ]
    },
    {
      "cell_type": "markdown",
      "source": [
        "**# Notes:**\n",
        "I prepared the data by converting the month to a string and then extracted the month number as a numeric feature for regression.  \n",
        "I split the data into training and testing sets to evaluate the model's performance.  \n",
        "Using linear regression, I trained the model on the training data and predicted scores on the test set.  \n",
        "The scatter plot compares actual vs predicted scores, and I calculated R² and MSE to quantify how well the model fits the data.\n"
      ],
      "metadata": {
        "id": "jsxFMaKLGznv"
      }
    },
    {
      "cell_type": "code",
      "execution_count": 40,
      "metadata": {
        "colab": {
          "base_uri": "https://localhost:8080/",
          "height": 426
        },
        "id": "zY8DfyRuNyoW",
        "outputId": "72c909db-27e8-4031-a40c-2970b303e8f1"
      },
      "outputs": [
        {
          "output_type": "stream",
          "name": "stdout",
          "text": [
            "Regression R^2: -0.18306778231281484\n",
            "MSE: 3.580012403769507\n"
          ]
        },
        {
          "output_type": "display_data",
          "data": {
            "text/plain": [
              "<Figure size 600x400 with 1 Axes>"
            ],
            "image/png": "[encoded data removed]"
          },
          "metadata": {}
        }
      ],
      "source": [
        "model_data = monthly_scores.copy()  # Copied the monthly scores.\n",
        "model_data['month'] = model_data['month'].astype(str)  # Converted month to string.\n",
        "model_data['month_num'] = pd.to_datetime(model_data['month']).dt.month  # Extracted month number.\n",
        "X = model_data[['month_num']]  # Feature for regression.\n",
        "y = model_data['score']  # Target variable.\n",
        "X_train, X_test, y_train, y_test = train_test_split(X, y, test_size=0.2, random_state=42)  # Split data.\n",
        "model = LinearRegression()  # Initialing...\n",
        "model.fit(X_train, y_train)  # Training...\n",
        "y_pred = model.predict(X_test)  # Predicting...\n",
        "\n",
        "plt.figure(figsize=(6,4))\n",
        "plt.scatter(X_test, y_test, color='black', label='Actual')  # Actual values.\n",
        "plt.plot(X_test, y_pred, color='blue', linewidth=2, label='Predicted')  # Prediction line.\n",
        "plt.legend()\n",
        "plt.title(\"Regression: Actual vs Predicted Scores\")\n",
        "plt.savefig(\"regression_performance.png\")\n",
        "print(\"Regression R^2:\", r2_score(y_test, y_pred))\n",
        "print(\"MSE:\", mean_squared_error(y_test, y_pred))"
      ]
    },
    {
      "cell_type": "markdown",
      "metadata": {
        "id": "3KGBrIVqnvsg"
      },
      "source": [
        "**To understand sentiment trends over time, I trained a simple linear regression model using the month number as a predictor of sentiment score. This gives a basic forecast of employee sentiment and engagement. The visualization compares predicted vs. actual scores.**"
      ]
    },
    {
      "cell_type": "markdown",
      "metadata": {
        "id": "w4p6wTtmOUwP"
      },
      "source": [
        "#Summary of Outputs and Analysis"
      ]
    },
    {
      "cell_type": "code",
      "execution_count": 41,
      "metadata": {
        "colab": {
          "base_uri": "https://localhost:8080/"
        },
        "id": "tdKzH_ZGOaKA",
        "outputId": "124d8d06-8678-4535-df7f-fb0e53876266"
      },
      "outputs": [
        {
          "output_type": "stream",
          "name": "stdout",
          "text": [
            "Top Positive Employees (sample month):\n",
            "           employee_email    month  score\n",
            "0   john.arnold@enron.com  2010-01      1\n",
            "1  don.baughman@enron.com  2010-01      0\n",
            "2     eric.bass@enron.com  2010-01      0\n",
            "Top Negative Employees (sample month):\n",
            "                employee_email    month  score\n",
            "0     patti.thompson@enron.com  2010-01     -3\n",
            "1         sally.beck@enron.com  2010-01     -3\n",
            "2  bobette.riner@ipgdirect.com  2010-01     -2\n",
            "Flight Risk Employees:\n",
            "['johnny.palmer@enron.com', 'bobette.riner@ipgdirect.com', 'sally.beck@enron.com', 'kayne.coulter@enron.com', 'lydia.delgado@enron.com', 'eric.bass@enron.com', 'rhonda.denton@enron.com', 'patti.thompson@enron.com', 'john.arnold@enron.com', 'don.baughman@enron.com']\n",
            "Regression R^2: -0.18306778231281484\n",
            "MSE: 3.580012403769507\n"
          ]
        }
      ],
      "source": [
        "print(\"Top Positive Employees (sample month):\")\n",
        "print(top_positive[top_positive['month'] == top_positive['month'].iloc[0]])\n",
        "\n",
        "print(\"Top Negative Employees (sample month):\")\n",
        "print(top_negative[top_negative['month'] == top_negative['month'].iloc[0]])\n",
        "\n",
        "print(\"Flight Risk Employees:\")\n",
        "print(flight_risks)\n",
        "\n",
        "print(\"Regression R^2:\", r2_score(y_test, y_pred))\n",
        "print(\"MSE:\", mean_squared_error(y_test, y_pred))\n"
      ]
    },
    {
      "cell_type": "markdown",
      "metadata": {
        "id": "aoRypkHLn34Z"
      },
      "source": [
        "**Finally, I evaluated the regression model's performance using R² and MSE. To approximate classification behavior.**\n",
        "\n",
        "\n",
        "\n",
        "*   R² Score**: -0.183 (indicating poor fit — model underperforms the mean baseline)\n",
        "*   Mean Squared Error (MSE): 3.58\n",
        "\n",
        "\n",
        "\n"
      ]
    },
    {
      "cell_type": "markdown",
      "source": [
        "## 9. Improved Model: Random Forest Regressor"
      ],
      "metadata": {
        "id": "NPry6B2r69cs"
      }
    },
    {
      "cell_type": "markdown",
      "source": [
        "**# Notes:**\n",
        "To improve predictions, I added features including message counts and sentiment counts per employee per month, alongside the month number.  \n",
        "I merged these features with the target sentiment scores and handled any missing sentiment categories by filling with zeros.  \n",
        "Using a Random Forest Regressor, I trained the model on these features and evaluated its performance on a test set.  \n",
        "The scatter plot compares actual vs predicted sentiment scores, showing how well the model captures the variation.  \n",
        "\n"
      ],
      "metadata": {
        "id": "dVqsZVdrHESZ"
      }
    },
    {
      "cell_type": "code",
      "execution_count": 42,
      "metadata": {
        "colab": {
          "base_uri": "https://localhost:8080/",
          "height": 442
        },
        "id": "T3_cg6Lkaj-1",
        "outputId": "e66f3a29-443b-4fb4-b5e3-d16bd5b4b6d8"
      },
      "outputs": [
        {
          "output_type": "stream",
          "name": "stdout",
          "text": [
            "Improved R^2 Score: 0.9563056798623064\n",
            "Improved MSE: 0.13222083333333332\n"
          ]
        },
        {
          "output_type": "display_data",
          "data": {
            "text/plain": [
              "<Figure size 600x400 with 1 Axes>"
            ],
            "image/png": "[encoded data removed]"
          },
          "metadata": {}
        }
      ],
      "source": [
        "#Improved Predictive Modeling\n",
        "\n",
        "from sklearn.ensemble import RandomForestRegressor\n",
        "\n",
        "# Step 1: Create modeling dataset with features\n",
        "model_df = df.copy()\n",
        "model_df['month'] = model_df['date'].dt.to_period('M')\n",
        "model_df['month_num'] = model_df['date'].dt.month\n",
        "\n",
        "# Feature 1: Total messages per employee per month\n",
        "msg_count = model_df.groupby(['employee_email', 'month']).size().rename(\"msg_count\")\n",
        "\n",
        "# Feature 2: Sentiment counts per employee per month\n",
        "sentiment_counts = model_df.groupby(['employee_email', 'month', 'sentiment']).size().unstack(fill_value=0)\n",
        "\n",
        "# Combine everything\n",
        "features_df = pd.concat([msg_count, sentiment_counts], axis=1).reset_index()\n",
        "features_df['month'] = features_df['month'].astype(str)\n",
        "features_df['month_num'] = pd.to_datetime(features_df['month']).dt.month\n",
        "\n",
        "# Add target: monthly sentiment score\n",
        "monthly_scores['month'] = monthly_scores['month'].astype(str)\n",
        "data = pd.merge(features_df, monthly_scores, on=['employee_email', 'month'], how='left')\n",
        "\n",
        "# Fill missing sentiment types\n",
        "for col in ['Positive', 'Negative', 'Neutral']:\n",
        "    if col not in data.columns:\n",
        "        data[col] = 0\n",
        "\n",
        "# Create features and target\n",
        "X = data[['msg_count', 'Positive', 'Negative', 'Neutral', 'month_num']]\n",
        "y = data['score']\n",
        "\n",
        "# Train-test split\n",
        "X_train, X_test, y_train, y_test = train_test_split(X, y, test_size=0.2, random_state=42)\n",
        "\n",
        "# Model\n",
        "model = RandomForestRegressor(n_estimators=100, random_state=42)\n",
        "model.fit(X_train, y_train)\n",
        "y_pred = model.predict(X_test)\n",
        "\n",
        "# Evaluation\n",
        "print(\"Improved R^2 Score:\", r2_score(y_test, y_pred))\n",
        "print(\"Improved MSE:\", mean_squared_error(y_test, y_pred))\n",
        "\n",
        "# Plot actual vs predicted\n",
        "plt.figure(figsize=(6, 4))\n",
        "plt.scatter(y_test, y_pred, alpha=0.6, color='dodgerblue')\n",
        "plt.plot([y.min(), y.max()], [y.min(), y.max()], 'k--', lw=2)\n",
        "plt.xlabel(\"Actual Sentiment Score\")\n",
        "plt.ylabel(\"Predicted Score\")\n",
        "plt.title(\"Random Forest: Actual vs Predicted Sentiment Score\")\n",
        "plt.tight_layout()\n",
        "plt.show()\n"
      ]
    },
    {
      "cell_type": "markdown",
      "source": [
        "**Observations:The R² and MSE metrics indicate improved predictive accuracy over the previous linear regression model.**"
      ],
      "metadata": {
        "id": "6Q8qkgMdHVzR"
      }
    },
    {
      "cell_type": "markdown",
      "source": [
        "## 10. Feature Importance Analysis\n"
      ],
      "metadata": {
        "id": "ckD7vQ187cGZ"
      }
    },
    {
      "cell_type": "markdown",
      "source": [
        "**# Notes:I extracted and visualized the feature importances from the Random Forest model to understand which features contribute most to predicting the sentiment score. The bar plot shows the relative importance of message count, sentiment counts, and month number, helping me identify key drivers behind the model’s predictions.**\n"
      ],
      "metadata": {
        "id": "M8xJ8s-vHniZ"
      }
    },
    {
      "cell_type": "code",
      "execution_count": 43,
      "metadata": {
        "colab": {
          "base_uri": "https://localhost:8080/",
          "height": 524
        },
        "id": "eIvxXskIkDZK",
        "outputId": "d32e4b99-7b2d-45a8-b452-2967b3ea091f"
      },
      "outputs": [
        {
          "output_type": "stream",
          "name": "stderr",
          "text": [
            "<ipython-input-43-aad1f494b4b5>:5: FutureWarning: \n",
            "\n",
            "Passing `palette` without assigning `hue` is deprecated and will be removed in v0.14.0. Assign the `y` variable to `hue` and set `legend=False` for the same effect.\n",
            "\n",
            "  sns.barplot(x=importances, y=feature_names, palette='coolwarm')\n"
          ]
        },
        {
          "output_type": "display_data",
          "data": {
            "text/plain": [
              "<Figure size 800x500 with 1 Axes>"
            ],
            "image/png": "[encoded data removed]"
          },
          "metadata": {}
        }
      ],
      "source": [
        "importances = model.feature_importances_\n",
        "feature_names = X.columns\n",
        "\n",
        "plt.figure(figsize=(8,5))\n",
        "sns.barplot(x=importances, y=feature_names, palette='coolwarm')\n",
        "plt.title(\"Feature Importance - Random Forest\")\n",
        "plt.xlabel(\"Importance Score\")\n",
        "plt.ylabel(\"Feature\")\n",
        "plt.tight_layout()\n",
        "plt.show()\n"
      ]
    },
    {
      "cell_type": "markdown",
      "metadata": {
        "id": "OL2XRReWooZu"
      },
      "source": [
        "**I have noticed that with Linear Regression gave us low accuracy for the analysis and after manually looking at the results , I have noticed that many messages were falsely flagged as negative! So with a quick search I wanted to try other better methods suitable to tackle this problem like Random Forest Regressor to handle the non-linear relationships better. I engineered additional features such as message count and sentiment composition (positive, negative, neutral) per employee per month**\n",
        "\n",
        "**After training, the R² score improved, and the model produced better predictions as shown in the new scatter plot of actual vs. predicted sentiment scores.**\n",
        "\n",
        "\n",
        "\n"
      ]
    },
    {
      "cell_type": "markdown",
      "source": [
        "## 11. Sentiment Trends for Flight Risk Employees using the updated Model"
      ],
      "metadata": {
        "id": "VtYBfKsG7Giq"
      }
    },
    {
      "cell_type": "markdown",
      "source": [
        "**#Notes**:I analyzed employee sentiment scores using the improved Random Forest regression model with engineered features.  \n",
        "First, I identified the top 3 employees with the highest positive sentiment scores for a sample month, which helps highlight those with consistently positive interactions or feedback.  \n",
        "Similarly, I listed the top 3 employees with the most negative sentiment scores in the same month to pinpoint individuals who may need attention or support.  \n",
        "\n",
        "Next, I reviewed the list of flight risk employees—those who, based on their sentiment patterns and scores, might be at risk of leaving the company. This provides actionable insight for HR and management to intervene proactively.\n",
        "\n",
        "Finally, I evaluated the model’s performance using the R² and Mean Squared Error (MSE) metrics, which show the model’s improved ability to predict sentiment scores compared to previous approaches.  \n",
        "Overall, these insights not only quantify sentiment trends but also enable targeted employee engagement strategies."
      ],
      "metadata": {
        "id": "vlaysmjuIC_d"
      }
    },
    {
      "cell_type": "code",
      "execution_count": 44,
      "metadata": {
        "colab": {
          "base_uri": "https://localhost:8080/"
        },
        "id": "CZG-WZDva_Y4",
        "outputId": "41180648-16f8-456a-cd1c-ecb87365381b"
      },
      "outputs": [
        {
          "output_type": "stream",
          "name": "stdout",
          "text": [
            "Top 3 Positive Employees (sample month):\n",
            "           employee_email    month  score\n",
            "0   john.arnold@enron.com  2010-01      1\n",
            "1  don.baughman@enron.com  2010-01      0\n",
            "2     eric.bass@enron.com  2010-01      0\n",
            "Top 3 Negative Employees (sample month):\n",
            "                employee_email    month  score\n",
            "0     patti.thompson@enron.com  2010-01     -3\n",
            "1         sally.beck@enron.com  2010-01     -3\n",
            "2  bobette.riner@ipgdirect.com  2010-01     -2\n",
            "Flight Risk Employees:\n",
            "['johnny.palmer@enron.com', 'bobette.riner@ipgdirect.com', 'sally.beck@enron.com', 'kayne.coulter@enron.com', 'lydia.delgado@enron.com', 'eric.bass@enron.com', 'rhonda.denton@enron.com', 'patti.thompson@enron.com', 'john.arnold@enron.com', 'don.baughman@enron.com']\n",
            "Improved Regression R^2 Score: 0.9563056798623064\n",
            "Improved MSE: 0.13222083333333332\n"
          ]
        }
      ],
      "source": [
        "\n",
        "# Summary for the improved model\n",
        "print(\"Top 3 Positive Employees (sample month):\")\n",
        "print(top_positive[top_positive['month'] == top_positive['month'].iloc[0]])\n",
        "\n",
        "print(\"Top 3 Negative Employees (sample month):\")\n",
        "print(top_negative[top_negative['month'] == top_negative['month'].iloc[0]])\n",
        "\n",
        "print(\"Flight Risk Employees:\")\n",
        "print(flight_risks)\n",
        "\n",
        "print(\"Improved Regression R^2 Score:\", r2_score(y_test, y_pred))\n",
        "print(\"Improved MSE:\", mean_squared_error(y_test, y_pred))\n"
      ]
    },
    {
      "cell_type": "markdown",
      "source": [
        "# Detailed Summary of Results\n",
        "\n",
        "For the sample month of January 2010, I identified the top 3 employees with the highest positive sentiment scores. These employees—John Arnold, Don Baughman, and Eric Bass—show consistently positive sentiment, which could reflect strong engagement or favorable interactions.\n",
        "\n",
        "Conversely, the top 3 employees with the most negative sentiment scores during the same period are Patti Thompson, Sally Beck, and Bobette Riner. Their low scores suggest potential dissatisfaction or negative experiences that may warrant further investigation.\n",
        "\n",
        "I also generated a list of flight risk employees based on their sentiment patterns and scores. This group includes some of the same individuals from both positive and negative sentiment lists, indicating that both extremes in sentiment could be indicators of flight risk.\n",
        "\n",
        "The Random Forest regression model achieved a high R² score of approximately 0.96, indicating it explains 96% of the variance in sentiment scores. The Mean Squared Error (MSE) is low at about 0.13, showing that predictions are closely aligned with actual values. This performance demonstrates a significant improvement over simpler models and confirms the value of the engineered features.\n"
      ],
      "metadata": {
        "id": "bP2b0KDBIOdl"
      }
    },
    {
      "cell_type": "markdown",
      "source": [
        "# 14. Analysis of Top 3 Flight-Risk Employees Over Time\n",
        "\n"
      ],
      "metadata": {
        "id": "WZrXSGicIiJo"
      }
    },
    {
      "cell_type": "markdown",
      "source": [
        "**# Notes:**\n",
        "\n",
        "- Selected top 3 flight-risk employees by finding those with the lowest average sentiment scores from the flight risk group.\n",
        "- Filtered the monthly sentiment scores data to include only these top 3 employees.\n",
        "- Converted the 'month' column to datetime format for proper time-series plotting.\n",
        "- Created a line plot showing sentiment scores over time for each of these employees.\n",
        "- Added markers on data points and a legend to distinguish employees.\n",
        "- Included grid, axis labels, title, and rotated x-axis ticks for better readability.\n",
        "- The plot helps visualize sentiment trends for flight-risk employees across months.\n"
      ],
      "metadata": {
        "id": "0EB-LkVcIs1K"
      }
    },
    {
      "cell_type": "code",
      "execution_count": 46,
      "metadata": {
        "colab": {
          "base_uri": "https://localhost:8080/",
          "height": 336
        },
        "id": "FBx2wu8PnZHj",
        "outputId": "2cbb5fbf-5a1c-47c5-8f77-fc41ca16543a"
      },
      "outputs": [
        {
          "output_type": "display_data",
          "data": {
            "text/plain": [
              "<Figure size 1000x500 with 1 Axes>"
            ],
            "image/png": "[encoded data removed]"
          },
          "metadata": {}
        }
      ],
      "source": [
        "\n",
        "top3_employees = (\n",
        "    monthly_scores[monthly_scores['employee_email'].isin(flight_risks)]\n",
        "    .groupby('employee_email')['score']\n",
        "    .mean()\n",
        "    .sort_values()\n",
        "    .head(3)\n",
        "    .index\n",
        ")\n",
        "\n",
        "# Filter and sort\n",
        "top3_data = monthly_scores[monthly_scores['employee_email'].isin(top3_employees)].copy()\n",
        "top3_data['month'] = pd.to_datetime(top3_data['month'])\n",
        "\n",
        "plt.figure(figsize=(10, 5))\n",
        "\n",
        "for emp in top3_employees:\n",
        "    emp_data = top3_data[top3_data['employee_email'] == emp].sort_values('month')\n",
        "    plt.plot(emp_data['month'], emp_data['score'], marker='o', label=emp)\n",
        "\n",
        "plt.title(\"Sentiment Score Over Time - Top 3 Flight-Risk Employees\")\n",
        "plt.xlabel(\"Month\")\n",
        "plt.ylabel(\"Sentiment Score\")\n",
        "plt.xticks(rotation=45)\n",
        "plt.grid(True)\n",
        "plt.legend(title=\"Employee\", loc='upper right')\n",
        "plt.tight_layout()\n",
        "plt.show()\n"
      ]
    },
    {
      "cell_type": "markdown",
      "source": [
        "## 15. Final Observations and Insights"
      ],
      "metadata": {
        "id": "6bRdx4gc7nc8"
      }
    },
    {
      "cell_type": "markdown",
      "metadata": {
        "id": "bEPtXdIdn9HD"
      },
      "source": [
        "The graph reveals highly volatile sentiment scores over two years for the three employees identified as flight risks. All experienced significant negative periods, likely contributing to their classification.\n",
        "\n",
        "John Arnold: Showed extreme swings, including a sharp drop to very negative sentiment (-5) mid-2010, followed by the highest positive peak (+6) late in 2010, and another significant negative dip towards the end of 2011.\n",
        "Rhonda Denton: Displayed consistent volatility with several negative dips and positive spikes, starting negative, peaking positively mid-2010, and showing another notable positive spike in early-mid 2011.\n",
        "Kayne Coulter: Initially had more stable, moderately positive sentiment in early 2010 but experienced a dramatic plunge to very negative sentiment (-5) in early 2011 before recovering."
      ]
    }
  ],
  "metadata": {
    "colab": {
      "provenance": []
    },
    "kernelspec": {
      "display_name": "Python [conda env:base] *",
      "language": "python",
      "name": "conda-base-py"
    },
    "language_info": {
      "codemirror_mode": {
        "name": "ipython",
        "version": 3
      },
      "file_extension": ".py",
      "mimetype": "text/x-python",
      "name": "python",
      "nbconvert_exporter": "python",
      "pygments_lexer": "ipython3",
      "version": "3.12.7"
    }
  },
  "nbformat": 4,
  "nbformat_minor": 0
}
